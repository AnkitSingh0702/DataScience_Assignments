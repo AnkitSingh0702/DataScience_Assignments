{
 "cells": [
  {
   "attachments": {},
   "cell_type": "markdown",
   "metadata": {},
   "source": [
    "### Idsup Assignment-3\n",
    "### Name:Ankit Singh\n",
    "### Redg No.:2041019276\n",
    "### Section: D"
   ]
  },
  {
   "attachments": {},
   "cell_type": "markdown",
   "metadata": {},
   "source": [
    "1. Write a Python program to find the derivate of using limit of the difference coefficient method at f(x) = e^x^2+ sin(x) − tan(x) + log(x)"
   ]
  },
  {
   "cell_type": "code",
   "execution_count": 1,
   "metadata": {},
   "outputs": [
    {
     "name": "stdout",
     "output_type": "stream",
     "text": [
      "The derivative of f(x) at x = 1 is: 3.551349041952534\n"
     ]
    }
   ],
   "source": [
    "#Answer-1\n",
    "import math\n",
    "\n",
    "def f(x):\n",
    "    return math.exp(x**2) + math.sin(x) - math.tan(x) + math.log(x)\n",
    "\n",
    "def derivative_limit(f, x, h):\n",
    "    return (f(x + h) - f(x)) / h\n",
    "\n",
    "x = 1\n",
    "h = 1e-6\n",
    "\n",
    "derivative = derivative_limit(f, x, h)\n",
    "print(\"The derivative of f(x) at x = 1 is:\", derivative)"
   ]
  },
  {
   "attachments": {},
   "cell_type": "markdown",
   "metadata": {},
   "source": [
    "2. Write a Python program to find gradient of Rosenbrock function using limit of the difference coeffficient method at the point (1,2). Rosenbrock function is defined below.\n",
    "f(x, y) = (1 − x)^2 + 100(y − x^2)^2"
   ]
  },
  {
   "cell_type": "code",
   "execution_count": 1,
   "metadata": {},
   "outputs": [
    {
     "name": "stdout",
     "output_type": "stream",
     "text": [
      "[-399.99798996177554, 200.00100000174822]\n"
     ]
    }
   ],
   "source": [
    "def rosenbrock(x, y):\n",
    "    return (1 - x)**2 + 100*(y - x**2)**2\n",
    "\n",
    "def gradient(f, x, y):\n",
    "    h = 0.00001\n",
    "    df_dx = (f(x+h, y) - f(x,y))/h\n",
    "    df_dy = (f(x, y+h) - f(x, y))/h\n",
    "    return [df_dx, df_dy]\n",
    "\n",
    "x, y = 1, 2\n",
    "print(gradient(rosenbrock, x, y))"
   ]
  },
  {
   "attachments": {},
   "cell_type": "markdown",
   "metadata": {},
   "source": [
    "3. Write a Python program to find the point of minima of function using Gradient Descent method taking\n",
    "initial solution x0 = 2.f(x) = x^2 + sin(x)\n"
   ]
  },
  {
   "cell_type": "code",
   "execution_count": 5,
   "metadata": {},
   "outputs": [
    {
     "name": "stdout",
     "output_type": "stream",
     "text": [
      "The point of minima is: -0.4501886112911902\n"
     ]
    }
   ],
   "source": [
    "import math\n",
    "\n",
    "def f(x):\n",
    "    return x**2 + math.sin(x)\n",
    "\n",
    "def gradient(f, x):\n",
    "    h = 0.00001\n",
    "    df_dx = (f(x+h) - f(x)) / h\n",
    "    return df_dx\n",
    "\n",
    "def gradient_descent(f, x, LR, iters):\n",
    "    for i in range(iters):\n",
    "        grad = gradient(f, x)\n",
    "        x -= LR * grad\n",
    "    return x\n",
    "\n",
    "x = 2\n",
    "LR = 0.1\n",
    "iters = 1000\n",
    "\n",
    "xmin = gradient_descent(f, x, LR, iters)\n",
    "print(\"The point of minima is:\", xmin)"
   ]
  },
  {
   "attachments": {},
   "cell_type": "markdown",
   "metadata": {},
   "source": [
    "4. Write a Python program to find the point of minima of Rosenbrock function using Gradient Descent\n",
    "method taking initial solution (0,0). Rosenbrock function is defined below.\n",
    "f(x, y) = (1 − x)^2 + (y − x^2)^2"
   ]
  },
  {
   "cell_type": "code",
   "execution_count": 4,
   "metadata": {},
   "outputs": [
    {
     "name": "stdout",
     "output_type": "stream",
     "text": [
      "The point of minima is: 0.6732082213914273 0.4516453931768405\n"
     ]
    }
   ],
   "source": [
    "def rosenbrock(x, y):\n",
    "    return (1 - x)**2 + 100*(y - x**2)**2\n",
    "\n",
    "def gradient(f, x, y):\n",
    "    h = 0.00001 # small step size\n",
    "    df_dx = (f(x+h, y) - f(x, y)) / h\n",
    "    df_dy = (f(x, y+h) - f(x, y)) / h\n",
    "    return [df_dx, df_dy]\n",
    "\n",
    "def gradient_descent(f, x0, y0, LR, iters):\n",
    "    x = x0\n",
    "    y = y0\n",
    "    for i in range(iters):\n",
    "        grad = gradient(f, x, y)\n",
    "        x -= LR * grad[0]\n",
    "        y -= LR * grad[1]\n",
    "    return [x, y]\n",
    "\n",
    "x0, y0 = 0, 0\n",
    "LR = 0.0001\n",
    "iters = 10000\n",
    "\n",
    "xmin, ymin = gradient_descent(rosenbrock, x0, y0, LR, iters)\n",
    "print(\"The point of minima is:\", xmin, ymin)"
   ]
  },
  {
   "attachments": {},
   "cell_type": "markdown",
   "metadata": {},
   "source": [
    "5. Let X be a binomial random variable with parameters n = 100 and p = 0.6. Write a Python program\n",
    "to find the approximate probability that:\n",
    "a)X lies above 60.\n",
    "b) X lies between 50 and 70.\n",
    "using normal approximation to binomial distribution."
   ]
  },
  {
   "cell_type": "code",
   "execution_count": 2,
   "metadata": {},
   "outputs": [
    {
     "name": "stdout",
     "output_type": "stream",
     "text": [
      "Approximate probability that X lies above 60: 0.46207534088596275\n",
      "Approximate probability that X lies between 50 and 70: 0.9684629952661075\n"
     ]
    }
   ],
   "source": [
    "#5 (i)\n",
    "import math\n",
    "from scipy.stats import norm\n",
    "\n",
    "n = 100\n",
    "p = 0.6\n",
    "\n",
    "mu = n * p\n",
    "sigma = math.sqrt(n * p * (1 - p))\n",
    "\n",
    "z = (60 - mu) / sigma\n",
    "prob = 1 - norm.cdf(z)\n",
    "\n",
    "print(\"The approximate probability that X > 60 is:\", prob)\n",
    "\n",
    "\n",
    "#5 (ii)\n",
    "import math\n",
    "from scipy.stats import norm\n",
    "\n",
    "n = 100\n",
    "p = 0.6\n",
    "\n",
    "mu = n * p\n",
    "sigma = math.sqrt(n * p * (1 - p))\n",
    "\n",
    "z1 = (50 - mu) / sigma\n",
    "z2 = (70 - mu) / sigma\n",
    "\n",
    "prob = norm.cdf(z2) - norm.cdf(z1)\n",
    "\n",
    "print(\"The approximate probability that X lies between 50 and 70 is:\", prob)"
   ]
  },
  {
   "attachments": {},
   "cell_type": "markdown",
   "metadata": {},
   "source": [
    "6. Define p-value and write a python program to find the two-sided p-value with and without continuity\n",
    "correction when the values of x(observed no. of heads), mean and standard deviation are 110, 100, 5\n",
    "respectively"
   ]
  },
  {
   "cell_type": "code",
   "execution_count": 3,
   "metadata": {},
   "outputs": [
    {
     "name": "stdout",
     "output_type": "stream",
     "text": [
      "The two-sided p-value without continuity correction is: 0.04550026389635842\n",
      "The two-sided p-value with continuity correction is: 0.13361440253771617\n"
     ]
    }
   ],
   "source": [
    "import math\n",
    "from scipy.stats import norm\n",
    "\n",
    "x = 110\n",
    "mu = 100\n",
    "sigma = 5\n",
    "\n",
    "z = (x - mu) / sigma\n",
    "p_value_no_corr = 2 * (1 - norm.cdf(abs(z)))\n",
    "p_value_corr = 2 * (1 - norm.cdf(abs(z + 1/2)) if z < 0 else 1 - norm.cdf(abs(z - 1/2)))\n",
    "\n",
    "print(\"The two-sided p-value without continuity correction is:\", p_value_no_corr)\n",
    "print(\"The two-sided p-value with continuity correction is:\", p_value_corr)"
   ]
  }
 ],
 "metadata": {
  "kernelspec": {
   "display_name": "Python 3",
   "language": "python",
   "name": "python3"
  },
  "language_info": {
   "codemirror_mode": {
    "name": "ipython",
    "version": 3
   },
   "file_extension": ".py",
   "mimetype": "text/x-python",
   "name": "python",
   "nbconvert_exporter": "python",
   "pygments_lexer": "ipython3",
   "version": "3.10.7"
  },
  "orig_nbformat": 4
 },
 "nbformat": 4,
 "nbformat_minor": 2
}
