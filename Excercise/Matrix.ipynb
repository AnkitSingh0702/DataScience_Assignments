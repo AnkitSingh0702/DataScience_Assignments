{
 "cells": [
  {
   "cell_type": "code",
   "execution_count": 8,
   "metadata": {},
   "outputs": [
    {
     "name": "stdout",
     "output_type": "stream",
     "text": [
      "Required Matrix =  [[0, 1, 2], [0, 2, 3], [0, 2, 4]]\n"
     ]
    }
   ],
   "source": [
    "#using append()\n",
    "rows = int(input('Enter the number  of rows:'))\n",
    "columns = int(input('Enter the number  of columns:'))\n",
    "def matrix(R,C):\n",
    "    M = []\n",
    "    for i in range(R):\n",
    "        temp = []\n",
    "        for j in range(C):\n",
    "            temp.append(int(input()))\n",
    "        M.append(temp)\n",
    "    print(\"Required Matrix = \",M)\n",
    "\n",
    "matrix(rows,columns)\n"
   ]
  },
  {
   "cell_type": "code",
   "execution_count": 12,
   "metadata": {},
   "outputs": [
    {
     "name": "stdout",
     "output_type": "stream",
     "text": [
      "[[0, 0, 0], [0, 1, 2], [0, 2, 4]]\n"
     ]
    }
   ],
   "source": [
    "#using entry_fn fundtion\n",
    "def entry_fn(i, j):\n",
    "    return i*j\n",
    "\n",
    "    \n",
    "res = [[entry_fn(i, j) for j in range(3)] for i in range(3)]\n",
    "print(res)"
   ]
  },
  {
   "cell_type": "code",
   "execution_count": null,
   "metadata": {},
   "outputs": [],
   "source": []
  }
 ],
 "metadata": {
  "kernelspec": {
   "display_name": "Python 3",
   "language": "python",
   "name": "python3"
  },
  "language_info": {
   "codemirror_mode": {
    "name": "ipython",
    "version": 3
   },
   "file_extension": ".py",
   "mimetype": "text/x-python",
   "name": "python",
   "nbconvert_exporter": "python",
   "pygments_lexer": "ipython3",
   "version": "3.10.7"
  },
  "orig_nbformat": 4
 },
 "nbformat": 4,
 "nbformat_minor": 2
}
