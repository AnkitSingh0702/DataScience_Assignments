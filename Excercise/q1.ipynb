{
 "cells": [
  {
   "cell_type": "code",
   "execution_count": 3,
   "metadata": {},
   "outputs": [
    {
     "name": "stdout",
     "output_type": "stream",
     "text": [
      "[66, 61, 60, 69, 66, 68, 70, 62, 70, 66, 62, 68, 68, 68, 67, 61, 64, 64, 68, 70, 61, 61, 65, 60, 70, 64, 70, 66, 68, 64, 69, 62, 69, 60, 68, 60, 68, 60, 68, 60, 69, 65, 60, 64, 69, 67, 62, 61, 61, 67, 68, 70, 67, 70, 64, 69, 65, 69, 60, 67, 63, 62, 65, 70, 70, 65, 66, 67, 70, 65, 60, 69, 61, 62, 68, 63, 69, 62, 62, 70, 64, 61, 60, 61, 69, 60, 66, 64, 61, 62, 69, 60, 65, 64, 70, 63, 64, 61, 64, 67, 70, 64, 60, 68, 66, 60, 66, 61, 64, 64, 60, 60, 64, 67, 69, 66, 65, 69, 63, 62, 67, 61, 63, 69, 62, 61, 66, 65, 61, 69, 66, 62, 61, 65, 60, 69, 65, 64, 68, 68, 69, 60, 65, 65, 62, 68, 70, 62, 67, 67, 67, 63, 67, 63, 64, 61, 65, 63, 61, 67, 68, 67, 67, 70, 66, 66, 60, 63, 65, 63, 66, 69, 63, 69, 63, 67, 65, 64, 66, 68, 70, 68, 61, 65, 66, 62, 64, 63, 68, 63, 64, 68, 61, 62, 65, 67, 69, 61, 69, 65, 61, 70, 65, 70, 64, 63, 60, 60, 64, 61, 63, 64, 61, 66, 60, 68, 65, 66, 65, 65, 62, 63, 60, 64, 61, 61, 69, 70, 62, 67, 60, 63, 64, 68, 68, 60, 62, 65, 65, 66, 69, 67, 67, 69, 66, 69, 62, 61, 65, 64, 66, 63, 65, 70, 61, 66, 66, 67, 63, 69, 68, 66, 68, 61, 69, 64, 64, 69, 61, 61, 61, 66, 64, 64, 69, 68, 65, 62, 70, 64, 70, 60, 70, 60, 64, 66, 65, 65, 70, 67, 70, 66, 64, 69, 69, 66, 67, 68, 70, 67, 70, 62, 64, 69, 69, 62, 61, 62, 70, 68, 70, 66, 67, 68, 63, 66, 64, 67, 61, 66, 70, 66, 62, 68, 63, 64, 61, 65, 66, 67, 63, 66, 70, 68, 68, 62, 60, 66, 67, 64, 69, 60, 64, 60, 63, 62, 70, 60, 61, 61, 62, 70, 70, 68, 65, 62, 63, 61, 63, 64, 67, 62, 62, 65, 60, 70, 70, 70, 68, 68, 60, 66, 61, 65, 62, 65, 60, 67, 62, 66, 67, 63, 60, 67, 66, 63, 70, 64, 67, 65, 68, 61, 66, 69, 61, 64, 68, 60, 62, 63, 65, 70, 68, 68, 64, 66, 62, 60, 68, 70, 64, 63, 63, 65, 63, 65, 60, 62, 64, 63, 61, 70, 67, 70, 63, 67, 65, 60, 60, 68, 67, 67, 67, 61, 69, 62, 67, 63, 66, 60, 62, 70, 70, 64, 66, 67, 61, 70, 69, 65, 64, 67, 62, 67, 69, 69, 66, 64, 66, 70, 64, 65, 60, 61, 62, 63, 63, 61, 66, 67, 67, 65, 70, 63, 62, 66, 62, 63, 69, 61, 65, 61, 63, 70, 61, 62, 66, 65, 63, 61, 66, 66, 66, 60, 70, 63, 68, 70, 66, 63, 64, 69, 65, 62, 64, 64, 70, 70, 69, 70, 65, 60, 66, 64, 61, 70, 68, 66, 68, 60, 61, 61, 61, 65, 62, 62, 67, 65, 62, 65, 66, 68, 66, 70, 64, 70, 65, 64, 63, 65, 65, 66, 64, 66, 61, 69, 62, 63, 67, 61, 68, 67, 64, 68, 65, 62, 64, 66, 70, 62, 60, 70, 61, 60, 62, 64, 70, 67, 60, 70, 69, 64, 68, 70, 63, 60, 66, 68, 60, 64, 65, 70, 63, 60, 70, 67, 70, 63, 66, 69, 68, 61, 63, 67, 66, 61, 66, 60, 60, 61, 64, 66, 61, 70, 67, 64, 61, 69, 69, 68, 61, 69, 64, 63, 63, 60, 67, 63, 70, 60, 61, 61, 67, 65, 66, 61, 69, 61, 65, 68, 70, 68, 70, 69, 70, 65, 70, 66, 61, 67, 60, 61, 65, 63, 62, 63, 62, 61, 69, 62, 65, 68, 66, 60, 67, 63, 70, 65, 66, 70, 70, 60, 65, 63, 69, 62, 68, 61, 65, 62, 70, 64, 69, 69, 60, 63, 62, 62, 62, 70, 68, 60, 63, 66, 60, 70, 60, 65, 69, 68, 66, 61, 60, 70, 60, 65, 64, 69, 62, 70, 65, 70, 64, 66, 70, 70, 65, 70, 69, 65, 61, 68, 65, 65, 67, 67, 69, 66, 67, 60, 65, 68, 61, 65, 70, 68, 64, 60, 66, 66, 67, 62, 60, 70, 68, 66, 67, 68, 70, 67, 64, 66, 66, 65, 60, 70, 61, 60, 65, 70, 69, 67, 62, 64, 62, 66, 66, 60, 61, 65, 63, 64, 64, 64, 60, 69, 60, 65, 64, 64, 63, 70, 64, 69, 69, 64, 64, 60, 64, 60, 70, 60, 61, 70, 66, 68, 63, 67, 64, 70, 63, 63, 64, 60, 64, 68, 68, 62, 64, 65, 64, 67, 67, 61, 68, 61, 60, 64, 70, 66, 64, 67, 64, 63, 63, 69, 67, 67, 68, 64, 68, 68, 70, 65, 62, 69, 70, 64, 62, 68, 65, 61, 61, 68, 61, 68, 66, 62, 61, 70, 68, 70, 66, 68, 66, 69, 69, 61, 60, 60, 69, 69, 65, 68, 70, 65, 61, 64, 62, 67, 68, 60, 69, 69, 66, 63, 69, 68, 69, 65, 65, 66, 65, 67, 69, 69, 70, 67, 68, 63, 64, 70, 68, 68, 68, 67, 65, 70, 63, 64, 70, 65, 65, 61, 67, 66, 69, 66, 60, 64, 67, 65, 65, 65, 66, 64, 67, 62, 61, 65, 61, 62, 67, 65, 62, 64, 62, 66, 68, 67, 62, 65, 65, 68, 64, 70, 60, 64, 62, 70, 65, 69, 69, 70, 63, 66, 61, 65, 64, 66, 64, 61, 67, 67, 62, 63, 67, 62, 68, 61, 67, 62, 67, 62, 60, 62, 61, 67, 70, 65, 63, 64, 68, 68, 69, 70, 67, 65, 61, 68, 64, 62, 66, 62, 64, 61, 63, 68, 63, 67, 65, 64, 65, 60, 62, 66, 65, 65, 61, 65, 68, 70, 70, 67, 65, 63, 70, 64, 62, 61]\n"
     ]
    }
   ],
   "source": [
    "import random\n",
    "\n",
    "d1 = []\n",
    "for i in range(1000):\n",
    "    d1.append(random.randint(60, 70))\n",
    "print(d1)\n"
   ]
  },
  {
   "cell_type": "code",
   "execution_count": 6,
   "metadata": {},
   "outputs": [
    {
     "data": {
      "text/html": [
       "<div>\n",
       "<style scoped>\n",
       "    .dataframe tbody tr th:only-of-type {\n",
       "        vertical-align: middle;\n",
       "    }\n",
       "\n",
       "    .dataframe tbody tr th {\n",
       "        vertical-align: top;\n",
       "    }\n",
       "\n",
       "    .dataframe thead th {\n",
       "        text-align: right;\n",
       "    }\n",
       "</style>\n",
       "<table border=\"1\" class=\"dataframe\">\n",
       "  <thead>\n",
       "    <tr style=\"text-align: right;\">\n",
       "      <th></th>\n",
       "      <th>0</th>\n",
       "    </tr>\n",
       "  </thead>\n",
       "  <tbody>\n",
       "    <tr>\n",
       "      <th>0</th>\n",
       "      <td>66</td>\n",
       "    </tr>\n",
       "    <tr>\n",
       "      <th>1</th>\n",
       "      <td>61</td>\n",
       "    </tr>\n",
       "    <tr>\n",
       "      <th>2</th>\n",
       "      <td>60</td>\n",
       "    </tr>\n",
       "    <tr>\n",
       "      <th>3</th>\n",
       "      <td>69</td>\n",
       "    </tr>\n",
       "    <tr>\n",
       "      <th>4</th>\n",
       "      <td>66</td>\n",
       "    </tr>\n",
       "    <tr>\n",
       "      <th>...</th>\n",
       "      <td>...</td>\n",
       "    </tr>\n",
       "    <tr>\n",
       "      <th>995</th>\n",
       "      <td>63</td>\n",
       "    </tr>\n",
       "    <tr>\n",
       "      <th>996</th>\n",
       "      <td>70</td>\n",
       "    </tr>\n",
       "    <tr>\n",
       "      <th>997</th>\n",
       "      <td>64</td>\n",
       "    </tr>\n",
       "    <tr>\n",
       "      <th>998</th>\n",
       "      <td>62</td>\n",
       "    </tr>\n",
       "    <tr>\n",
       "      <th>999</th>\n",
       "      <td>61</td>\n",
       "    </tr>\n",
       "  </tbody>\n",
       "</table>\n",
       "<p>1000 rows × 1 columns</p>\n",
       "</div>"
      ],
      "text/plain": [
       "      0\n",
       "0    66\n",
       "1    61\n",
       "2    60\n",
       "3    69\n",
       "4    66\n",
       "..   ..\n",
       "995  63\n",
       "996  70\n",
       "997  64\n",
       "998  62\n",
       "999  61\n",
       "\n",
       "[1000 rows x 1 columns]"
      ]
     },
     "execution_count": 6,
     "metadata": {},
     "output_type": "execute_result"
    }
   ],
   "source": [
    "import pandas as pd\n",
    "\n",
    "df = pd.DataFrame(d1)\n",
    "df"
   ]
  },
  {
   "cell_type": "code",
   "execution_count": 7,
   "metadata": {},
   "outputs": [
    {
     "name": "stdout",
     "output_type": "stream",
     "text": [
      "Mean value:  0    65.087\n",
      "dtype: float64\n"
     ]
    }
   ],
   "source": [
    "# 2\n",
    "mean = df.mean()\n",
    "print(\"Mean value: \",mean)"
   ]
  },
  {
   "cell_type": "code",
   "execution_count": 8,
   "metadata": {},
   "outputs": [
    {
     "name": "stdout",
     "output_type": "stream",
     "text": [
      "Standard-deviation:  0    3.162188\n",
      "dtype: float64\n"
     ]
    }
   ],
   "source": [
    "# Calculating Standard deviation\n",
    "std = df.std()\n",
    "print(\"Standard-deviation: \",std)"
   ]
  },
  {
   "cell_type": "code",
   "execution_count": 9,
   "metadata": {},
   "outputs": [
    {
     "data": {
      "image/png": "[encoded data removed]",
      "text/plain": [
       "<Figure size 640x480 with 1 Axes>"
      ]
     },
     "metadata": {},
     "output_type": "display_data"
    }
   ],
   "source": [
    "# 3\n",
    "import matplotlib.pyplot as plt\n",
    "\n",
    "plt.hist(d1)\n",
    "plt.xlabel('Values')\n",
    "plt.ylabel('Frequency')\n",
    "plt.title('Histogram of 1000 Random Values between 60 and 70')\n",
    "plt.show()"
   ]
  },
  {
   "cell_type": "code",
   "execution_count": null,
   "metadata": {},
   "outputs": [],
   "source": []
  }
 ],
 "metadata": {
  "kernelspec": {
   "display_name": "Python 3",
   "language": "python",
   "name": "python3"
  },
  "language_info": {
   "codemirror_mode": {
    "name": "ipython",
    "version": 3
   },
   "file_extension": ".py",
   "mimetype": "text/x-python",
   "name": "python",
   "nbconvert_exporter": "python",
   "pygments_lexer": "ipython3",
   "version": "3.10.7"
  },
  "orig_nbformat": 4
 },
 "nbformat": 4,
 "nbformat_minor": 2
}
