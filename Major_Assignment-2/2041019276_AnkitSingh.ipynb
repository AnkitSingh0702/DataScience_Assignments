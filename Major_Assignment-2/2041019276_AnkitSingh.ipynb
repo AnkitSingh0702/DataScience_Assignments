{
 "cells": [
  {
   "attachments": {},
   "cell_type": "markdown",
   "metadata": {},
   "source": [
    "### Name : Ankit Singh\n",
    "### Regd : 2041019276\n",
    "### Section : CSD - D\n",
    "### Subject : IDSUP "
   ]
  },
  {
   "attachments": {},
   "cell_type": "markdown",
   "metadata": {},
   "source": [
    "## IDSUP Major Assignment-2"
   ]
  },
  {
   "attachments": {},
   "cell_type": "markdown",
   "metadata": {},
   "source": [
    "‘mark.txt’ is a csv file containing the results of 15 students. For example, the first student has four marks in\n",
    "math, three marks in CS, and his result is Fail."
   ]
  },
  {
   "attachments": {},
   "cell_type": "markdown",
   "metadata": {},
   "source": [
    "1. Write a python program to read the csv file ‘mark.txt’.\n",
    "\n",
    "2. Write a python program to make a list math marks by reading math marks from csv file ‘mark.txt’.\n",
    "Similarly, make a list CS marks by reading CS marks from csv file ‘mark.txt’. Write a python program\n",
    "to make a scatter plot by taking two lists math marks and CS marks."
   ]
  },
  {
   "cell_type": "code",
   "execution_count": 6,
   "metadata": {},
   "outputs": [
    {
     "name": "stdout",
     "output_type": "stream",
     "text": [
      "['4', '3', 'result-Fail']\n",
      "['4', '4', 'result-Fail']\n",
      "['3', '3', 'result-Fail']\n",
      "['3', '4', 'result-Fail']\n",
      "['6', '7', 'result-Pass']\n",
      "['7', '6', 'result-Pass']\n",
      "['7', '7', 'result-Pass']\n",
      "['7', '8', 'result-Pass']\n",
      "['8', '8', 'result-Pass']\n",
      "['8', '7', 'result-Pass']\n",
      "['5', '5', 'result-Fail']\n",
      "['4', '5', 'result-Fail']\n",
      "['5', '4', 'result-Fail']\n",
      "['8', '8', 'result-Pass']\n",
      "['9', '9', 'result-Pass']\n"
     ]
    },
    {
     "data": {
      "image/png": "[encoded data removed]",
      "text/plain": [
       "<Figure size 640x480 with 1 Axes>"
      ]
     },
     "metadata": {},
     "output_type": "display_data"
    }
   ],
   "source": [
    "import csv\n",
    "import matplotlib.pyplot as plt\n",
    "\n",
    "filename = 'mark.txt'\n",
    "math_marks = []\n",
    "cs_marks = []\n",
    "\n",
    "with open(filename, 'r') as file:\n",
    "    csv_reader = csv.reader(file)\n",
    "    next(csv_reader)  \n",
    "    #By using the next() function before the for loop, we skip the first row (column headers) and start reading the marks from the subsequent rows. \n",
    "    #This should prevent the ValueError related to converting the column headers to float values.\n",
    "    \n",
    "    for row in csv_reader:\n",
    "        print(row)\n",
    "        math_marks.append(float(row[0]))  \n",
    "        cs_marks.append(float(row[1]))  \n",
    "\n",
    "plt.scatter(math_marks, cs_marks , color='red', marker='o')\n",
    "plt.xlabel('Math Marks')\n",
    "plt.ylabel('CS Marks')\n",
    "plt.title('Scatter Plot: Math Marks vs CS Marks')\n",
    "plt.show()"
   ]
  },
  {
   "cell_type": "code",
   "execution_count": 2,
   "metadata": {},
   "outputs": [
    {
     "name": "stdout",
     "output_type": "stream",
     "text": [
      "Predicted Result: result-Pass\n"
     ]
    }
   ],
   "source": [
    "data = []\n",
    "with open('mark.txt', 'r') as file:\n",
    "    lines = file.readlines()\n",
    "    for line in lines[1:]:  # Skip the first line\n",
    "        math, cs, result = line.strip().split(',')\n",
    "        data.append([float(math), float(cs), result])\n",
    "\n",
    "X = [[point[0], point[1]] for point in data]  # Features\n",
    "y = [point[2] for point in data]             # Target variable\n",
    "\n",
    "normalized_X = []\n",
    "for point in X:\n",
    "    math_normalized = (point[0] - min(X, key=lambda x: x[0])[0]) / (max(X, key=lambda x: x[0])[0] - min(X, key=lambda x: x[0])[0])\n",
    "    cs_normalized = (point[1] - min(X, key=lambda x: x[1])[1]) / (max(X, key=lambda x: x[1])[1] - min(X, key=lambda x: x[1])[1])\n",
    "    normalized_X.append([math_normalized, cs_normalized])\n",
    "def euclidean_distance(p1, p2):\n",
    "    return ((p1[0] - p2[0]) ** 2 + (p1[1] - p2[1]) ** 2) ** 0.5\n",
    "k = 3  # Number of neighbors\n",
    "\n",
    "def predict_result(new_student):\n",
    "    distances = []\n",
    "    for i in range(len(normalized_X)):\n",
    "        distance = euclidean_distance(new_student, normalized_X[i])\n",
    "        distances.append((distance, y[i]))\n",
    "    \n",
    "    sorted_distances = sorted(distances)[:k]\n",
    "    result_counts = {}\n",
    "    for _, result in sorted_distances:\n",
    "        result_counts[result] = result_counts.get(result, 0) + 1\n",
    "    \n",
    "    predicted_result = max(result_counts, key=result_counts.get)\n",
    "    return predicted_result\n",
    "\n",
    "new_student = [6, 8]  # New student's marks\n",
    "new_student_normalized = [(new_student[0] - min(X, key=lambda x: x[0])[0]) / (max(X, key=lambda x: x[0])[0] - min(X, key=lambda x: x[0])[0]),\n",
    "                          (new_student[1] - min(X, key=lambda x: x[1])[1]) / (max(X, key=lambda x: x[1])[1] - min(X, key=lambda x: x[1])[1])]\n",
    "\n",
    "prediction = predict_result(new_student_normalized)\n",
    "print(\"Predicted Result:\", prediction)\n"
   ]
  }
 ],
 "metadata": {
  "kernelspec": {
   "display_name": "Python 3",
   "language": "python",
   "name": "python3"
  },
  "language_info": {
   "codemirror_mode": {
    "name": "ipython",
    "version": 3
   },
   "file_extension": ".py",
   "mimetype": "text/x-python",
   "name": "python",
   "nbconvert_exporter": "python",
   "pygments_lexer": "ipython3",
   "version": "3.10.7"
  },
  "orig_nbformat": 4
 },
 "nbformat": 4,
 "nbformat_minor": 2
}
