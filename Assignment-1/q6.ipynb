{
 "cells": [
  {
   "cell_type": "code",
   "execution_count": 3,
   "metadata": {},
   "outputs": [
    {
     "name": "stdout",
     "output_type": "stream",
     "text": [
      "Modified StringList1: ['ABC']\n"
     ]
    }
   ],
   "source": [
    "#QUESTION 6\n",
    "StringList1 = input('Enter List of Strings : ').split()\n",
    "\n",
    "MStringList1 = []\n",
    "for e in StringList1:\n",
    "    if StringList1.count(e) >= 2:\n",
    "        MStringList1.append(e)\n",
    "\n",
    "for item in MStringList1:\n",
    "    if StringList1.count(item) % 2 == 0:\n",
    "        print(item, \"occurs an even number of times in StringList1\")\n",
    "    else:\n",
    "        print(item, \"occurs an odd number of times in StringList1\")\n",
    "\n",
    "word = input('Enter word for removing...')\n",
    "count = 0\n",
    "for i in range(len(StringList1)):\n",
    "    if StringList1[i] == word:\n",
    "        count += 1\n",
    "        if count >= 2:\n",
    "            del StringList1[i]\n",
    "            break\n",
    "\n",
    "print(\"Modified StringList1:\", StringList1)"
   ]
  }
 ],
 "metadata": {
  "kernelspec": {
   "display_name": "Python 3",
   "language": "python",
   "name": "python3"
  },
  "language_info": {
   "codemirror_mode": {
    "name": "ipython",
    "version": 3
   },
   "file_extension": ".py",
   "mimetype": "text/x-python",
   "name": "python",
   "nbconvert_exporter": "python",
   "pygments_lexer": "ipython3",
   "version": "3.10.7"
  },
  "orig_nbformat": 4
 },
 "nbformat": 4,
 "nbformat_minor": 2
}
