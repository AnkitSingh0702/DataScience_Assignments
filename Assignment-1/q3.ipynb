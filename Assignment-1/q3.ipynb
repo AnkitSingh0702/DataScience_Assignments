{
 "cells": [
  {
   "cell_type": "code",
   "execution_count": 1,
   "metadata": {},
   "outputs": [
    {
     "name": "stdout",
     "output_type": "stream",
     "text": [
      "True\n",
      "False\n",
      "30\n",
      "30\n",
      "[0, 1, 2, 3, 4, 5, 6, 7, 8, 9]\n",
      "[1, 3, 5, 7, 9, 2, 4, 6, 8, 0]\n",
      "[0, 1, 2, 3, 4, 5, 6, 7, 8, 9]\n",
      "cherry\n",
      "[7, 9, 4]\n"
     ]
    }
   ],
   "source": [
    "import random\n",
    "#a\n",
    "numbers = [1, 2, 3, 4, 5]\n",
    "result = all(num > 0 for num in numbers)\n",
    "print(result)\n",
    "\n",
    "numbers = [0, 1, 2, 3, 4, 5]\n",
    "result = any(num > 5 for num in numbers)\n",
    "print(result)\n",
    "#b\n",
    "n = 30\n",
    "string = str(n)\n",
    "print(string)\n",
    "\n",
    "a = 30\n",
    "repr = repr(a)\n",
    "print(repr)\n",
    "\n",
    "#c\n",
    "x = [1, 3, 5, 7, 9, 2, 4, 6, 8, 0]\n",
    "x.sort()\n",
    "print(x)\n",
    "\n",
    "x = [1, 3, 5, 7, 9, 2, 4, 6, 8, 0]\n",
    "y = sorted(x)\n",
    "print(x)\n",
    "print(y)\n",
    "\n",
    "#d\n",
    "fruits = [\"apple\",\"banana\",\"orange\",\"cherry\"]\n",
    "random_fruit = random.choice(fruits)\n",
    "print(random_fruit)\n",
    "\n",
    "numbers = [1, 2, 3, 4, 5, 6, 7, 8, 9, 10]\n",
    "random_numbers = random.sample(numbers, 3)\n",
    "print(random_numbers)"
   ]
  },
  {
   "cell_type": "code",
   "execution_count": null,
   "metadata": {},
   "outputs": [],
   "source": []
  }
 ],
 "metadata": {
  "kernelspec": {
   "display_name": "Python 3",
   "language": "python",
   "name": "python3"
  },
  "language_info": {
   "codemirror_mode": {
    "name": "ipython",
    "version": 3
   },
   "file_extension": ".py",
   "mimetype": "text/x-python",
   "name": "python",
   "nbconvert_exporter": "python",
   "pygments_lexer": "ipython3",
   "version": "3.10.7"
  },
  "orig_nbformat": 4
 },
 "nbformat": 4,
 "nbformat_minor": 2
}
