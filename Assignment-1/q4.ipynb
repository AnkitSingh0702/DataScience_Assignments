{
 "cells": [
  {
   "cell_type": "code",
   "execution_count": 12,
   "metadata": {},
   "outputs": [
    {
     "data": {
      "text/plain": [
       "['ruIIUI', 'x8s79b']"
      ]
     },
     "execution_count": 12,
     "metadata": {},
     "output_type": "execute_result"
    }
   ],
   "source": [
    "#QUESTION 4\n",
    "import random\n",
    "import string\n",
    "def generate(length):\n",
    "    characters = string.ascii_letters + string.digits\n",
    "    password = ''.join(random.choices(characters, k=length))\n",
    "    return password\n",
    "length = int(input(\"Enter password length: \"))\n",
    "no_of_password = int(input(\"Enter number of passwords to generate: \"))\n",
    "passwords = [generate(length) for i in range(no_of_password)]\n",
    "passwords"
   ]
  }
 ],
 "metadata": {
  "kernelspec": {
   "display_name": "Python 3",
   "language": "python",
   "name": "python3"
  },
  "language_info": {
   "codemirror_mode": {
    "name": "ipython",
    "version": 3
   },
   "file_extension": ".py",
   "mimetype": "text/x-python",
   "name": "python",
   "nbconvert_exporter": "python",
   "pygments_lexer": "ipython3",
   "version": "3.10.7"
  },
  "orig_nbformat": 4
 },
 "nbformat": 4,
 "nbformat_minor": 2
}
